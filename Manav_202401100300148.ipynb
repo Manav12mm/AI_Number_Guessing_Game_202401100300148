{
  "nbformat": 4,
  "nbformat_minor": 0,
  "metadata": {
    "colab": {
      "provenance": [],
      "authorship_tag": "ABX9TyPznHH2M495hzpv3qdnkVL3",
      "include_colab_link": true
    },
    "kernelspec": {
      "name": "python3",
      "display_name": "Python 3"
    },
    "language_info": {
      "name": "python"
    }
  },
  "cells": [
    {
      "cell_type": "markdown",
      "metadata": {
        "id": "view-in-github",
        "colab_type": "text"
      },
      "source": [
        "<a href=\"https://colab.research.google.com/github/Manav12mm/AI_Number_Guessing_Game_202401100300148/blob/main/Manav_202401100300148.ipynb\" target=\"_parent\"><img src=\"https://colab.research.google.com/assets/colab-badge.svg\" alt=\"Open In Colab\"/></a>"
      ]
    },
    {
      "cell_type": "code",
      "execution_count": null,
      "metadata": {
        "colab": {
          "base_uri": "https://localhost:8080/"
        },
        "id": "0jLZjohOhrzn",
        "outputId": "8c8c08f6-f8b9-4e8a-fa24-7d5d6df2a248"
      },
      "outputs": [
        {
          "output_type": "stream",
          "name": "stdout",
          "text": [
            "Welcome to the AI Number Guessing Game!\n",
            "Think of a number between 1 and 100, and I will try to guess it.\n"
          ]
        }
      ],
      "source": [
        "import time\n",
        "\n",
        "def ai_number_guessing():\n",
        "    \"\"\"\n",
        "    AI guesses the user's chosen number using the binary search algorithm.\n",
        "    The user provides feedback on whether the guess is too high, too low, or correct.\n",
        "    \"\"\"\n",
        "    print(\"Welcome to the AI Number Guessing Game!\")\n",
        "    print(\"Think of a number between 1 and 100, and I will try to guess it.\")\n",
        "    input(\"Press Enter when you are ready...\")\n",
        "\n",
        "    # Defining the initial range\n",
        "    low, high = 1, 100\n",
        "    attempts = 0\n",
        "\n",
        "    while low <= high:\n",
        "        # AI here will guess the middle value\n",
        "        guess = (low + high) // 2\n",
        "        attempts += 1\n",
        "        print(f\"\\nAI guesses: {guess}\")\n",
        "\n",
        "        # User provides feedback(Or simply the prompt about the number which user has thought is greater than , smaller than the number which AI has gussed.)\n",
        "        feedback = input(\"Is my guess (h)High, (l)Low, or (c)Correct? \").strip().lower()\n",
        "\n",
        "        if feedback == \"c\":\n",
        "            print(f\"\\nHurray! AI guessed your number {guess} correctly in {attempts} attempts! 🎉\\nWould you like to give it a another try for the good memories???\")\n",
        "            break\n",
        "        elif feedback == \"h\":\n",
        "            high = guess - 1  # Adjust range to lower values\n",
        "        elif feedback == \"l\":\n",
        "            low = guess + 1  # Adjust range to higher values\n",
        "        else:\n",
        "            print(\"Invalid input! Please enter 'H' for high, 'L' for low, or 'C' for correct.\")\n",
        "\n",
        "        time.sleep(0.5)  # Small delay for better user experience\n",
        "\n",
        "if __name__ == \"__main__\":\n",
        "    ai_number_guessing()"
      ]
    }
  ]
}